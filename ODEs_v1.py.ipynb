{
 "cells": [
  {
   "cell_type": "code",
   "execution_count": 2,
   "id": "126aee77",
   "metadata": {},
   "outputs": [],
   "source": [
    "from scipy.integrate import odeint\n",
    "import numpy as np\n",
    "import matplotlib.pyplot as plt"
   ]
  },
  {
   "cell_type": "markdown",
   "id": "cd3569c9",
   "metadata": {},
   "source": [
    "# Define parameters "
   ]
  },
  {
   "cell_type": "code",
   "execution_count": 24,
   "id": "80c7bf19",
   "metadata": {},
   "outputs": [],
   "source": [
    "# initial counts of epithelial cells \n",
    "Es0 = 250*10e6 # tracheal epithelial cells \n",
    "Ei0 = 0 # begin with no infected cells \n",
    "Ep0 = 0 # no phagocytosed cells \n",
    "\n",
    "# initial inoculation of virus \n",
    "v0 = 10e4 # range from 10**3 to 10**7 RNA copies/mL or max of approx 10**4 M\n",
    "\n",
    "# rate of viral dissemination \n",
    "delta = 1 # starting  with 1, need to do some digging to see what a better number is given rapid \n",
    "          # spread of human parainfluenza \n",
    "\n",
    "# contact matrix between virion and susceptible respiratory epithelial cells\n",
    "c_vEs = np.array([\n",
    "    [1, 0],\n",
    "    [0, 1]\n",
    "])\n",
    "\n",
    "# probability that a virion in contact with a susceptible cell will gain entry \n",
    "p_entry = 0.8 # must vary between 0 and 1... maybe pull from a probability distribution? \n",
    "\n",
    "# rate of viral budding\n",
    "b = 1 # placeholder\n",
    "\n",
    "# viral replication rate\n",
    "r = 1 # placeholder\n",
    "\n",
    "# probability of phagocytosis\n",
    "p_phagocytosis = 0.5 # maybe pull from a probability distribution? \n",
    "\n",
    "# rate of respiratory epithelial cell synthesis \n",
    "n_epithelial = 1 # placeholder \n",
    "\n",
    "# rate of epithelial cell infection\n",
    "beta = 2\n",
    "\n",
    "# rate of recovery of infected cells\n",
    "gamma = 0.5\n",
    "\n",
    "# rate of phagocytosis \n",
    "rho = 1\n",
    "\n",
    "# contact matrix between infected cells and activated T cells \n",
    "c_EiT = np.array([\n",
    "    [1, 0],\n",
    "    [0, 1]\n",
    "])\n",
    "\n",
    "# rate of M_0 synthesis \n",
    "# n_macrophage = \n",
    "\n",
    "# rate of differentiation from M_0 to M_1\n",
    "# nu_01 = \n",
    "\n",
    "# rate of differentiation from M_0 to M_2 \n",
    "# nu_02 =\n",
    "\n",
    "# rate of differentiation from M1 to M2\n",
    "# nu_12 = \n",
    "\n",
    "# rate of differentiation fomr M2 to M1\n",
    "# nu_21 = \n",
    "\n",
    "# rate of T cell synthesis\n",
    "# n_T = \n",
    "\n",
    "# probability of T cell activation \n",
    "# p_activation = # function of p_endocytosis  \n",
    "\n",
    "# rate of T cell exhaustion \n",
    "# e =\n",
    "\n",
    "# rate of T cell death \n",
    "# u_T = \n",
    "\n",
    "# rate of pro inflammmatory cytokine production\n",
    "# mu_cpro = \n",
    "\n",
    "# rate of cpro endocytosis by T cell \n",
    "# zeta_pro = \n",
    "\n",
    "# rate of canti endocytosis by T cell \n",
    "# zeta_anti = \n",
    "\n",
    "# contact matrix between cpro and activate T cell\n",
    "# c_cproT =\n",
    "\n",
    "# contact matrix between canti and activated T cell\n",
    "# c_cantiT = \n",
    "\n",
    "# probability of cytokine endocytosis by a T cell\n",
    "# p_endocytosis\n",
    "\n",
    "# rate of M1/M2 expression/endocytosis of TREM2\n",
    "# mu_M1exp = \n",
    "# mu_M1endo = \n",
    "\n",
    "# mu_M2exp = \n",
    "# mu_M2endo = \n",
    "\n",
    "# cleavage rate\n",
    "# eta = \n",
    "\n",
    "# contact matrix between M1 TREM2 and a cleaving enzyme/cytokine\n",
    "# c_M1enzyme =\n",
    "\n",
    "# rate of apoptosis for macrophages\n",
    "# a0 = \n",
    "\n",
    "# a1 =\n",
    " \n",
    "# a2 = \n",
    "\n",
    "# probability of apoptosis for macrophages\n",
    "# p_apoptosisM0 = \n",
    "\n",
    "# p_apoptosisM1 =\n",
    "\n",
    "# p_apoptosisM2 = \n",
    "\n",
    "# TREM2 receptors / cell \n",
    "rec = 10e4 # what chatGPT said when I told it to \"speculate\"\n",
    "\n",
    "# probability of cleavage\n",
    "#p_cleavage = \n",
    "\n",
    "# rate of sTREM2 degradation\n",
    "# mu_sTREM2 = "
   ]
  },
  {
   "cell_type": "markdown",
   "id": "dc65056c",
   "metadata": {},
   "source": [
    "# Define ODEs"
   ]
  },
  {
   "cell_type": "markdown",
   "id": "29501971",
   "metadata": {},
   "source": [
    "## Epithelial cells - use Forward Euler SIR with birth and death "
   ]
  },
  {
   "cell_type": "code",
   "execution_count": 15,
   "id": "c59a5d13",
   "metadata": {},
   "outputs": [],
   "source": [
    "def epithelial(Es0, Ei0, Ep0, beta, gamma, t_final, dt):\n",
    "    \n",
    "    T = np.linspace(0, t_final, 500)\n",
    "    Es = np.zeros(len(T))\n",
    "    Ei = np.zeros(len(T))\n",
    "    Ep = np.zeros(len(T))\n",
    "    \n",
    "    Es[0] = Es0\n",
    "    Ei[0] = Ei0\n",
    "    Ep[0] = Ep0 \n",
    "    \n",
    "    N = Es0 + Ei0 + Ep0 # Ep stands for phagocytosed, analogous to recovered\n",
    "    \n",
    "    for i in range(len(T)):\n",
    "        if i == 0:\n",
    "            Es[i] = Es0\n",
    "            Ei[i] = Ei0\n",
    "            Ep[i] = Ep0\n",
    "        \n",
    "        else: \n",
    "            Es[i] = Es[i-1] + dt*(n_epithelial - beta*Es[i-1]*Ei[i-1] / N) \n",
    "            Ei[i] = Ei[i-1] + dt*((beta*Es[i-1]*Ei[i-1] / N) - gamma*Ei[i-1])\n",
    "            Ep[i] = Ep[i-1] + dt*(gamma*Ei[i-1])\n",
    "            \n",
    "    return Es, Ei, Ep, T"
   ]
  },
  {
   "cell_type": "markdown",
   "id": "37b9317b",
   "metadata": {},
   "source": [
    "## ODE to track virions"
   ]
  },
  {
   "cell_type": "code",
   "execution_count": 8,
   "id": "d435dd72",
   "metadata": {},
   "outputs": [],
   "source": [
    "def virus(v0, ve, Ei, t):\n",
    "    \n",
    "    # soluble virus\n",
    "    dvsdt = v0 - delta*cvEs*p_entry + b*Ei\n",
    "    \n",
    "    # endocytosed virus\n",
    "    dvedt = delta*cvEs*p_entry + r*ve - b*Ei - rho*cEiT*p_phagocytosis \n",
    "\n",
    "    return [dvsdt, dvedt]"
   ]
  },
  {
   "cell_type": "markdown",
   "id": "750ba215",
   "metadata": {},
   "source": [
    "## ODEs to track macrophages"
   ]
  },
  {
   "cell_type": "code",
   "execution_count": null,
   "id": "72a697ce",
   "metadata": {},
   "outputs": [],
   "source": [
    "def macrophage(M0,M1,M2 t):\n",
    "    #M0\n",
    "    dM0dt = -M0*(nu_01 + nu_02 -a0*p_apoptosisM0) + n_macrophage*M0 \n",
    "    # question: should this last term be n_macrophage*(M0 +M1+M2)? Can only M0\n",
    "    # macrophages synthesize new M0 macrophages or can any? \n",
    "    \n",
    "    #M1\n",
    "    dM1dt = nu_01*M0 - M1*(nu_12 + a1*p_apoptosisM1)\n",
    "    \n",
    "    #M2\n",
    "    dM2dt = nu_02*M0 - M2*(nu_21 + a2*p_apoptosisM2)\n",
    "    \n",
    "    return [dM0dt, dM1dt, dM2dt]"
   ]
  },
  {
   "cell_type": "markdown",
   "id": "80395794",
   "metadata": {},
   "source": [
    "## ODEs to track T cells"
   ]
  },
  {
   "cell_type": "code",
   "execution_count": null,
   "id": "7f53efc2",
   "metadata": {},
   "outputs": [],
   "source": [
    "def Tcell(Tu, Ta):\n",
    "    #Tu \n",
    "    dTudt = n_T - Tu*p_activation + e*Ta - u_T*(Tu)\n",
    "    \n",
    "    #Ta \n",
    "    dTadt = Tu*p-activation - e*Ta - u_T*(Ta)\n",
    "    \n",
    "    return [dTudt, dTadt]\n",
    "    "
   ]
  },
  {
   "cell_type": "markdown",
   "id": "252af392",
   "metadata": {},
   "source": [
    "## ODEs to track cytokines "
   ]
  },
  {
   "cell_type": "code",
   "execution_count": null,
   "id": "e90d9b00",
   "metadata": {},
   "outputs": [],
   "source": [
    "def cytokines(M1, M2):\n",
    "    # pro inflammatory \n",
    "    dcprodt = mu_cpro*M1 - zeta_pro*c_cproT*p_endocytosis\n",
    "    \n",
    "    # anti inflammatory \n",
    "    dcantidt = mu_canti*M2 - zeta_anti*c_cantiT*p_endocytosis \n",
    "    \n",
    "    return [dcprodt, dcantidt]"
   ]
  },
  {
   "cell_type": "markdown",
   "id": "17f9a5d0",
   "metadata": {},
   "source": [
    "## ODEs to track TREM2/sTREM2"
   ]
  },
  {
   "cell_type": "code",
   "execution_count": null,
   "id": "5950d092",
   "metadata": {},
   "outputs": [],
   "source": [
    "def TREM(M1, M2, sTREM2):\n",
    "    # TREM2\n",
    "    dTREM2dt = rec*M1*(mu_M1exp - mu_M1endo) + rec*M2*(mu_M2exp - mu_M2endo) - eta(c_M1enzyme + c_M2enzyme)*p_cleavage\n",
    "    \n",
    "    # sTREM2\n",
    "    dsTREM2dt = eta*(c_M1enzyme + c_M2enzyme)*p_cleavage - mu_sTREM2*sTREM2\n",
    "    \n",
    "    return [dTREM2dt, dsTREM2dt]"
   ]
  },
  {
   "cell_type": "markdown",
   "id": "45c1e6f0",
   "metadata": {},
   "source": [
    "## First attempt: track epithelials"
   ]
  },
  {
   "cell_type": "code",
   "execution_count": 21,
   "id": "016f16f6",
   "metadata": {},
   "outputs": [],
   "source": [
    "max_time = 50 \n",
    "dt = 0.1\n",
    "\n",
    "test_output = epithelial(Es0, Ei0, Ep0, beta, gamma, max_time, dt)\n",
    "\n",
    "Es = test_output[0]\n",
    "Ei = test_output[1]\n",
    "Ep = test_output[2]\n",
    "T = test_output[3]"
   ]
  },
  {
   "cell_type": "markdown",
   "id": "2e917fe0",
   "metadata": {},
   "source": [
    "## Track virions "
   ]
  },
  {
   "cell_type": "code",
   "execution_count": 25,
   "id": "b9397f3d",
   "metadata": {},
   "outputs": [
    {
     "ename": "NameError",
     "evalue": "name 've' is not defined",
     "output_type": "error",
     "traceback": [
      "\u001b[1;31m---------------------------------------------------------------------------\u001b[0m",
      "\u001b[1;31mNameError\u001b[0m                                 Traceback (most recent call last)",
      "\u001b[1;32m~\\AppData\\Local\\Temp/ipykernel_29024/926920161.py\u001b[0m in \u001b[0;36m<module>\u001b[1;34m\u001b[0m\n\u001b[0;32m      3\u001b[0m \u001b[0mt\u001b[0m \u001b[1;33m=\u001b[0m \u001b[0mnp\u001b[0m\u001b[1;33m.\u001b[0m\u001b[0mlinspace\u001b[0m\u001b[1;33m(\u001b[0m\u001b[1;36m0\u001b[0m\u001b[1;33m,\u001b[0m \u001b[1;36m3600\u001b[0m\u001b[1;33m,\u001b[0m \u001b[1;36m100\u001b[0m\u001b[1;33m)\u001b[0m\u001b[1;33m\u001b[0m\u001b[1;33m\u001b[0m\u001b[0m\n\u001b[0;32m      4\u001b[0m \u001b[1;33m\u001b[0m\u001b[0m\n\u001b[1;32m----> 5\u001b[1;33m \u001b[0moutput_virions\u001b[0m \u001b[1;33m=\u001b[0m \u001b[0modeint\u001b[0m\u001b[1;33m(\u001b[0m\u001b[0mvirus\u001b[0m\u001b[1;33m,\u001b[0m \u001b[1;36m0\u001b[0m\u001b[1;33m,\u001b[0m \u001b[0mt\u001b[0m\u001b[1;33m,\u001b[0m \u001b[0margs\u001b[0m\u001b[1;33m=\u001b[0m\u001b[1;33m(\u001b[0m\u001b[0mv0\u001b[0m\u001b[1;33m,\u001b[0m \u001b[0mve\u001b[0m\u001b[1;33m,\u001b[0m \u001b[0mEi\u001b[0m\u001b[1;33m,\u001b[0m \u001b[0mt\u001b[0m \u001b[1;33m)\u001b[0m\u001b[1;33m)\u001b[0m\u001b[1;33m\u001b[0m\u001b[1;33m\u001b[0m\u001b[0m\n\u001b[0m\u001b[0;32m      6\u001b[0m \u001b[1;31m# need to define ve somewhere\u001b[0m\u001b[1;33m\u001b[0m\u001b[1;33m\u001b[0m\u001b[0m\n",
      "\u001b[1;31mNameError\u001b[0m: name 've' is not defined"
     ]
    }
   ],
   "source": [
    "# example syntax for odeint:\n",
    "# sol = odeint(my_ode, y0, t, args=(arg1, arg2))\n",
    "t = np.linspace(0, 3600, 100)\n",
    "\n",
    "output_virions = odeint(virus, 0, t, args=(v0, ve, Ei, t ))\n",
    "# need to define ve somewhere \n",
    "\n",
    "vs = output_virions[:,0]\n",
    "ve = output_virions[:,1]\n"
   ]
  },
  {
   "cell_type": "markdown",
   "id": "0e0cf31c",
   "metadata": {},
   "source": [
    "## Eventually: plot something "
   ]
  },
  {
   "cell_type": "code",
   "execution_count": null,
   "id": "89ccc40f",
   "metadata": {},
   "outputs": [],
   "source": [
    "plt.figure(figsize=(8, 6))  \n",
    "\n",
    "plt.plot(t, vs, label='soluble virus(t)')\n",
    "plt.plot(t, vt, label='endocytosed virus(t)')\n",
    "\n",
    "plt.xlabel('Time (t)')\n",
    "plt.ylabel('vs(t) or ve(t)')\n",
    "plt.legend()\n",
    "\n",
    "plt.grid(True)\n",
    "plt.show()"
   ]
  }
 ],
 "metadata": {
  "kernelspec": {
   "display_name": "Python 3 (ipykernel)",
   "language": "python",
   "name": "python3"
  },
  "language_info": {
   "codemirror_mode": {
    "name": "ipython",
    "version": 3
   },
   "file_extension": ".py",
   "mimetype": "text/x-python",
   "name": "python",
   "nbconvert_exporter": "python",
   "pygments_lexer": "ipython3",
   "version": "3.9.7"
  }
 },
 "nbformat": 4,
 "nbformat_minor": 5
}
